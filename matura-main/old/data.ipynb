{
 "cells": [
  {
   "cell_type": "code",
   "execution_count": 1,
   "metadata": {},
   "outputs": [],
   "source": [
    "import matplotlib.pyplot as plt\n",
    "import numpy as np\n",
    "import seaborn as sns"
   ]
  },
  {
   "cell_type": "code",
   "execution_count": 2,
   "metadata": {},
   "outputs": [],
   "source": [
    " # Loading the dataset in TensorFlow (keras)\n",
    "# Later you can explore and play with other datasets with come with TensorFlow (Keras)\n",
    "from tensorflow.keras.datasets import mnist\n",
    "\n",
    "# Loading the train and test data\n",
    "\n",
    "(X_train, y_train), (X_test, y_test) = mnist.load_data()"
   ]
  },
  {
   "cell_type": "code",
   "execution_count": 3,
   "metadata": {},
   "outputs": [
    {
     "name": "stdout",
     "output_type": "stream",
     "text": [
      "This digit is:  4\n"
     ]
    },
    {
     "data": {
      "image/png": "[encoded data removed]",
      "text/plain": [
       "<Figure size 640x480 with 1 Axes>"
      ]
     },
     "metadata": {},
     "output_type": "display_data"
    }
   ],
   "source": [
    " # We can see that the training set consists of 60,000 images of size 28x28 pixels\n",
    "i = np.random.randint(0, X_train.shape[0])\n",
    "sns.set_style(\"white\")\n",
    "plt.imshow(X_train[i])\n",
    "sns.set_theme(style=\"darkgrid\")\n",
    "print(\"This digit is: \", y_train[i])"
   ]
  },
  {
   "cell_type": "code",
   "execution_count": 4,
   "metadata": {},
   "outputs": [],
   "source": [
    "def place_image_on_canvas(image, width=1200, height=1200):\n",
    "    \"\"\"\n",
    "    Place a single MNIST image at a random location on a blank canvas of given dimensions.\n",
    "    \"\"\"\n",
    "    # Create a blank canvas\n",
    "    canvas = np.zeros((height, width))\n",
    "\n",
    "    # Image dimensions\n",
    "    img_height, img_width = image.shape\n",
    "\n",
    "    # Ensure the image fits: choose random coordinates for the top-left corner\n",
    "    max_x, max_y = width - img_width, height - img_height\n",
    "    x, y = np.random.randint(0, max_x), np.random.randint(0, max_y)\n",
    "\n",
    "    # Place the image on the canvas\n",
    "    canvas[y:y+img_height, x:x+img_width] = image\n",
    "\n",
    "    return canvas, (x, y)\n",
    "\n",
    "def show_random_images_on_canvases(n_images):\n",
    "    \"\"\"\n",
    "    Show n_images of MNIST placed randomly on individual 1200x1200 canvases.\n",
    "    \"\"\"\n",
    "    for _ in range(n_images):\n",
    "        # Randomly choose an image\n",
    "        idx = np.random.randint(0, X_train.shape[0])\n",
    "        image = X_train[idx]\n",
    "\n",
    "        # Create a canvas with the image placed randomly\n",
    "        canvas = place_image_on_canvas(image, width=128, height=128)\n",
    "\n",
    "        # Display the canvas\n",
    "        plt.figure(figsize=(5, 5))\n",
    "        plt.imshow(canvas, cmap='gray')\n",
    "        plt.axis('off')\n",
    "        plt.show()"
   ]
  },
  {
   "cell_type": "code",
   "execution_count": 5,
   "metadata": {},
   "outputs": [
    {
     "name": "stdout",
     "output_type": "stream",
     "text": [
      "x, y =  93 83\n"
     ]
    },
    {
     "data": {
      "image/png": "[encoded data removed]",
      "text/plain": [
       "<Figure size 640x480 with 1 Axes>"
      ]
     },
     "metadata": {},
     "output_type": "display_data"
    }
   ],
   "source": [
    "image = X_train[0]\n",
    "coord_image, (x, y) = place_image_on_canvas(image, width=128, height=128)\n",
    "print(\"x, y = \", x, y)\n",
    "plt.imshow(coord_image, cmap='gray')\n",
    "plt.show()"
   ]
  },
  {
   "cell_type": "code",
   "execution_count": 6,
   "metadata": {},
   "outputs": [],
   "source": [
    "from tensorflow.keras.preprocessing.image import ImageDataGenerator\n",
    "\n",
    "def create_dataset(list_img, n_images=100):\n",
    "    \"\"\"\n",
    "    Create a dataset of n_images of MNIST placed randomly on individual 1200x1200 canvases.\n",
    "    \"\"\"\n",
    "    X = []\n",
    "    #y = []\n",
    "    coords_x = []\n",
    "    coords_y = []\n",
    "    for i in range(n_images):\n",
    "        # Randomly choose an image\n",
    "        image = list_img[i]\n",
    "\n",
    "        # Create a canvas with the image placed randomly\n",
    "        canvas, (x, y) = place_image_on_canvas(image, width=128, height=128)\n",
    "        canvas = canvas.reshape(128, 128,1)\n",
    "        \n",
    "        #canvas_norm = canvas / 255\n",
    "        #flat_canvas = canvas_norm.flatten()\n",
    "        # Add the canvas to the dataset\n",
    "        X.append(canvas)   #X.append(flat_canvas)\n",
    "        coords_x.append(x)\n",
    "        coords_y.append(y)\n",
    "        #y.append(y_train[idx])\n",
    "    \n",
    "    X = np.array(X)\n",
    "    #y = np.array(y)\n",
    "\n",
    "    return X, coords_x, coords_y"
   ]
  },
  {
   "cell_type": "code",
   "execution_count": 7,
   "metadata": {},
   "outputs": [],
   "source": [
    "X_train_canvas, coords_x, coords_y = create_dataset(X_train, n_images=1000)\n",
    "X_test_canvas, coords_x_test, coords_y_test = create_dataset(X_test, n_images=1000)"
   ]
  },
  {
   "cell_type": "code",
   "execution_count": 8,
   "metadata": {},
   "outputs": [],
   "source": [
    "#X_train_canvas = np.squeeze(X_train_canvas, axis=-1)\n",
    "#X_test_canvas = np.squeeze(X_test_canvas, axis=-1)"
   ]
  },
  {
   "cell_type": "code",
   "execution_count": 9,
   "metadata": {},
   "outputs": [
    {
     "data": {
      "text/plain": [
       "(1000, 128, 128, 1)"
      ]
     },
     "execution_count": 9,
     "metadata": {},
     "output_type": "execute_result"
    }
   ],
   "source": [
    "X_train_canvas.shape"
   ]
  },
  {
   "cell_type": "code",
   "execution_count": 10,
   "metadata": {},
   "outputs": [],
   "source": [
    "from tensorflow.keras import utils\n",
    "\n",
    "y_train_onehot = utils.to_categorical(y_train[:1000], num_classes=10)\n",
    "y_test_onehot = utils.to_categorical(y_test[:1000], num_classes=10)"
   ]
  },
  {
   "cell_type": "code",
   "execution_count": 11,
   "metadata": {},
   "outputs": [],
   "source": [
    "#y_train_onehot.T.shape"
   ]
  },
  {
   "cell_type": "code",
   "execution_count": 12,
   "metadata": {},
   "outputs": [],
   "source": [
    "import tensorflow as tf\n",
    "\n",
    "batch_size = 32\n",
    "\n",
    "# If using NumPy arrays directly\n",
    "#X_train_batches = X_train_canvas.reshape(-1, 128, 128)  # Ensure shape is (num_samples, 128, 128)\n",
    "#y_train_batches = y_train_onehot  # Labels\n",
    "\n",
    "# Using tf.data.Dataset\n",
    "train_dataset = tf.data.Dataset.from_tensor_slices((X_train_canvas, y_train_onehot))\n",
    "train_dataset = train_dataset.batch(batch_size)\n",
    "\n",
    "# Example for validation/test dataset\n",
    "test_dataset = tf.data.Dataset.from_tensor_slices((X_test_canvas, y_test_onehot))\n",
    "test_dataset = test_dataset.batch(batch_size)"
   ]
  },
  {
   "cell_type": "code",
   "execution_count": 13,
   "metadata": {},
   "outputs": [
    {
     "name": "stdout",
     "output_type": "stream",
     "text": [
      "Num GPUs Available:  1\n"
     ]
    }
   ],
   "source": [
    "from train_models import single, sect1, sect2"
   ]
  },
  {
   "cell_type": "code",
   "execution_count": 14,
   "metadata": {},
   "outputs": [],
   "source": [
    "net = single()\n",
    "net.initialise_data_and_model([X_train_canvas, y_train_onehot, X_test_canvas, y_test_onehot])"
   ]
  },
  {
   "cell_type": "code",
   "execution_count": 15,
   "metadata": {},
   "outputs": [
    {
     "name": "stdout",
     "output_type": "stream",
     "text": [
      "Epoch 30/30 - loss: 0.5263 - val_loss: 31.3602\n"
     ]
    }
   ],
   "source": [
    "net.train()"
   ]
  },
  {
   "cell_type": "code",
   "execution_count": null,
   "metadata": {},
   "outputs": [],
   "source": [
    "test_dataset"
   ]
  },
  {
   "cell_type": "code",
   "execution_count": null,
   "metadata": {},
   "outputs": [],
   "source": [
    "X_train_canvas.shape"
   ]
  },
  {
   "cell_type": "code",
   "execution_count": null,
   "metadata": {},
   "outputs": [],
   "source": []
  },
  {
   "cell_type": "code",
   "execution_count": null,
   "metadata": {},
   "outputs": [],
   "source": [
    "y_train_onehot[0].shape"
   ]
  },
  {
   "cell_type": "code",
   "execution_count": null,
   "metadata": {},
   "outputs": [],
   "source": [
    " # Building the tensorflow model\n",
    "from tensorflow.keras.layers import Dense, Dropout, Input, Flatten\n",
    "from tensorflow.keras.models import Sequential\n",
    "from tensorflow.keras.callbacks import TensorBoard\n",
    "\n",
    "\n",
    "\n",
    "def mnist_model():\n",
    "    model = Sequential()\n",
    "\n",
    "    model.add(Input(shape=(128, 128,1)))\n",
    "    model.add(Flatten())\n",
    "\n",
    "    #model.add(Dense(4096, input_shape=(128, 128), activation=\"relu\"))\n",
    "    #model.add(Dropout(0.2))\n",
    "\n",
    "    model.add(Dense(4096, activation=\"relu\"))\n",
    "    model.add(Dropout(0.2))\n",
    "    \n",
    "    model.add(Dense(10, activation=\"softmax\"))\n",
    "\n",
    "    model.compile(\n",
    "        loss=\"categorical_crossentropy\", optimizer=\"rmsprop\", metrics=[\"accuracy\"]\n",
    "    )\n",
    "    return model\n",
    "\n",
    "\n",
    "#model = mnist_model()\n",
    "\n",
    "#model_run = model.fit(X_train_prep, y_train_onehot, epochs=20, batch_size=512)"
   ]
  },
  {
   "cell_type": "code",
   "execution_count": null,
   "metadata": {},
   "outputs": [],
   "source": [
    "log_dir = \"logs\"\n",
    "#tensorboard_callback = TensorBoard(log_dir=log_dir)\n",
    "\n",
    "num_epochs = 20\n",
    "model = mnist_model()\n",
    "model_run = model.fit(\n",
    "    train_dataset,\n",
    "    epochs=num_epochs,\n",
    "    validation_data=test_dataset,\n",
    "    callbacks=[],\n",
    ")\n",
    "# Evaluating the model on test dataset\n",
    "# print(\"The [loss, accuracy] on test dataset are: \" , model.evaluate(X_test_prep, y_test_onehot))\n",
    "history_model = model_run.history\n",
    "print(\"The history has the following data: \", history_model.keys())\n",
    "\n",
    "# Plotting the training and validation accuracy during the training\n",
    "sns.lineplot(\n",
    "    x=model_run.epoch, y=history_model[\"accuracy\"], color=\"blue\", label=\"Training set\"\n",
    ")\n",
    "sns.lineplot(\n",
    "    x=model_run.epoch,\n",
    "    y=history_model[\"val_accuracy\"],\n",
    "    color=\"red\",\n",
    "    label=\"Valdation set\",\n",
    ")\n",
    "plt.xlabel(\"epochs\")\n",
    "plt.ylabel(\"accuracy\")"
   ]
  }
 ],
 "metadata": {
  "kernelspec": {
   "display_name": "Python 3",
   "language": "python",
   "name": "python3"
  },
  "language_info": {
   "codemirror_mode": {
    "name": "ipython",
    "version": 3
   },
   "file_extension": ".py",
   "mimetype": "text/x-python",
   "name": "python",
   "nbconvert_exporter": "python",
   "pygments_lexer": "ipython3",
   "version": "3.10.9"
  }
 },
 "nbformat": 4,
 "nbformat_minor": 2
}
