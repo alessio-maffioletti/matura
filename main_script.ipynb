{
 "cells": [
  {
   "cell_type": "code",
   "execution_count": null,
   "metadata": {},
   "outputs": [],
   "source": [
    "from model_manager import section1, section2, single_model\n",
    "import optimizer as opt\n",
    "import dataset_creator\n",
    "from constants import *"
   ]
  },
  {
   "cell_type": "code",
   "execution_count": null,
   "metadata": {},
   "outputs": [],
   "source": [
    "dataset1_generator = dataset_creator.Dataset1()\n",
    "dataset1_generator.generate_dataset(train_size=30000, test_size=10000, whole_dataset=True)"
   ]
  },
  {
   "cell_type": "code",
   "execution_count": null,
   "metadata": {},
   "outputs": [],
   "source": [
    "conv_layers = [256,64,16]\n",
    "dense_layers = [64,128,256]\n",
    "target = 1\n",
    "model = section1()\n",
    "optimizer = opt.Optimizer()\n",
    "best_conv, best_dense, iter_num = optimizer.optimize(model, conv_layers, dense_layers, target, max_iter=20, max_failed_trains=2)"
   ]
  },
  {
   "cell_type": "code",
   "execution_count": null,
   "metadata": {},
   "outputs": [],
   "source": [
    "print(best_conv, best_dense)"
   ]
  },
  {
   "cell_type": "code",
   "execution_count": null,
   "metadata": {},
   "outputs": [],
   "source": [
    "dataset2_gen = dataset_creator.Dataset2(weights=SECT1_CHECKPOINT_FOLDER + f'model_optimize_{iter_num}.weights.h5', conv_layers=best_conv, dense_layers=best_dense)\n",
    "dataset2_gen.generate_dataset()"
   ]
  },
  {
   "cell_type": "code",
   "execution_count": null,
   "metadata": {},
   "outputs": [],
   "source": [
    "conv_layers = [256,64,16]\n",
    "dense_layers = [64,128,256]\n",
    "target = 0.9\n",
    "model = section2()\n",
    "optimizer = opt.Optimizer()\n",
    "best_conv, best_dense, iter_num = optimizer.optimize(model, conv_layers, dense_layers, target, max_iter=10, max_failed_trains=2)"
   ]
  },
  {
   "cell_type": "code",
   "execution_count": null,
   "metadata": {},
   "outputs": [],
   "source": [
    "print(best_conv, best_dense, iter_num)"
   ]
  },
  {
   "cell_type": "code",
   "execution_count": null,
   "metadata": {},
   "outputs": [],
   "source": [
    "model = section2()\n",
    "model.initialise_data_and_model(best_conv, best_dense)\n",
    "model.eval_random()"
   ]
  },
  {
   "cell_type": "code",
   "execution_count": null,
   "metadata": {},
   "outputs": [],
   "source": [
    "conv_layers = [256,64,16]\n",
    "dense_layers = [64,128,256]\n",
    "target = 0.9\n",
    "model = single_model()\n",
    "optimizer = opt.Optimizer()\n",
    "best_conv, best_dense, iter_num = optimizer.optimize(model, conv_layers, dense_layers, target, max_iter=10, max_failed_trains=2)\n",
    "print(best_conv, best_dense, iter_num)"
   ]
  },
  {
   "cell_type": "code",
   "execution_count": null,
   "metadata": {},
   "outputs": [],
   "source": [
    "[104, 25, 5], [25, 51, 104]"
   ]
  },
  {
   "cell_type": "code",
   "execution_count": null,
   "metadata": {},
   "outputs": [],
   "source": []
  }
 ],
 "metadata": {
  "kernelspec": {
   "display_name": "Python 3",
   "language": "python",
   "name": "python3"
  },
  "language_info": {
   "codemirror_mode": {
    "name": "ipython",
    "version": 3
   },
   "file_extension": ".py",
   "mimetype": "text/x-python",
   "name": "python",
   "nbconvert_exporter": "python",
   "pygments_lexer": "ipython3",
   "version": "3.10.9"
  }
 },
 "nbformat": 4,
 "nbformat_minor": 2
}
