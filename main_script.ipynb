{
 "cells": [
  {
   "cell_type": "code",
   "execution_count": null,
   "metadata": {},
   "outputs": [],
   "source": [
    "from train_models_debug import single, sect1, sect2"
   ]
  },
  {
   "cell_type": "code",
   "execution_count": null,
   "metadata": {},
   "outputs": [],
   "source": [
    "conv_layers = [64,128,256,32]\n",
    "dense_layers = [16,256,128]\n",
    "target = 4"
   ]
  },
  {
   "cell_type": "code",
   "execution_count": null,
   "metadata": {},
   "outputs": [],
   "source": [
    "def reduce_model_size(conv_layers, dense_layers):\n",
    "    # Reduce convolutional filters by 20%\n",
    "    conv_layers = [max(1, int(layer * 0.8)) for layer in conv_layers if layer > 1]\n",
    "\n",
    "    # Reduce dense units by 20%\n",
    "    dense_layers = [max(1, int(layer * 0.8)) for layer in dense_layers if layer > 1]\n",
    "\n",
    "    # Remove layers with size 1\n",
    "    conv_layers = [layer for layer in conv_layers if layer >= 4]\n",
    "    dense_layers = [layer for layer in dense_layers if layer >= 8]\n",
    "    return conv_layers, dense_layers"
   ]
  },
  {
   "cell_type": "code",
   "execution_count": null,
   "metadata": {},
   "outputs": [],
   "source": [
    "import matplotlib.pyplot as plt\n",
    "\n",
    "# Lists to store trainable parameters and training times\n",
    "trainable_params_list = []\n",
    "training_time_list = []\n",
    "iteration_list = []\n",
    "\n",
    "for i in range(10):\n",
    "    print(f\"Training model with: {conv_layers}, {dense_layers}\")\n",
    "\n",
    "    net3 = sect1()\n",
    "    trainable_params = net3.initialise_data_and_model(conv_layers=conv_layers, dense_layers=dense_layers)\n",
    "    params = {'epochs': 20,\n",
    "              'tensorboard': False, \n",
    "              'cp_callback': False,\n",
    "              'weights': None,\n",
    "              'stop_at': target,\n",
    "             }\n",
    "    reached_target, training_time = net3.train(params)\n",
    "\n",
    "    print(f\"Training time: {training_time}\")\n",
    "    trainable_params_list.append(trainable_params)\n",
    "    training_time_list.append(training_time)\n",
    "    iteration_list.append(i)\n",
    "\n",
    "    # If the target is not reached, break the loop\n",
    "    if reached_target == False:\n",
    "        break\n",
    "\n",
    "    # Reduce the model size for the next iteration\n",
    "    conv_layers, dense_layers = reduce_model_size(conv_layers, dense_layers)\n",
    "\n",
    "# Plot the first graph: Trainable parameters vs. Training time\n",
    "plt.figure(figsize=(10, 5))\n",
    "\n",
    "plt.subplot(1, 2, 1)  # Plot in the first subplot (1 row, 2 columns)\n",
    "plt.plot(trainable_params_list, training_time_list, marker='o', linestyle='-', color='b')\n",
    "plt.xlabel('Trainable Parameters')\n",
    "plt.ylabel('Training Time (seconds)')\n",
    "plt.title('Trainable Parameters vs Training Time')\n",
    "\n",
    "# Plot the second graph: Iteration vs. Training time\n",
    "plt.subplot(1, 2, 2)  # Plot in the second subplot\n",
    "plt.plot(iteration_list, training_time_list, marker='x', linestyle='-', color='r')\n",
    "plt.xlabel('Iteration')\n",
    "plt.ylabel('Training Time (seconds)')\n",
    "plt.title('Iteration vs Training Time')\n",
    "\n",
    "# Show both plots\n",
    "plt.tight_layout()\n",
    "plt.show()"
   ]
  },
  {
   "cell_type": "code",
   "execution_count": null,
   "metadata": {},
   "outputs": [],
   "source": []
  },
  {
   "cell_type": "code",
   "execution_count": null,
   "metadata": {},
   "outputs": [],
   "source": []
  }
 ],
 "metadata": {
  "kernelspec": {
   "display_name": "Python 3",
   "language": "python",
   "name": "python3"
  },
  "language_info": {
   "codemirror_mode": {
    "name": "ipython",
    "version": 3
   },
   "file_extension": ".py",
   "mimetype": "text/x-python",
   "name": "python",
   "nbconvert_exporter": "python",
   "pygments_lexer": "ipython3",
   "version": "3.10.9"
  }
 },
 "nbformat": 4,
 "nbformat_minor": 2
}
