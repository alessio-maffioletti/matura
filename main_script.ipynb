{
 "cells": [
  {
   "cell_type": "code",
   "execution_count": null,
   "metadata": {},
   "outputs": [],
   "source": [
    "from train_models_debug import single, sect1, sect2"
   ]
  },
  {
   "cell_type": "code",
   "execution_count": null,
   "metadata": {},
   "outputs": [],
   "source": [
    "import random\n",
    "def reduce_model_size(conv_layers, dense_layers, factor=0.8, rand_factor=None):\n",
    "    if rand_factor:\n",
    "        conv_layers = [max(1, int(layer * random.uniform(rand_factor[0], rand_factor[1]))) for layer in conv_layers if layer > 1]\n",
    "        dense_layers = [max(1, int(layer * random.uniform(rand_factor[0], rand_factor[1]))) for layer in dense_layers if layer > 1]\n",
    "        \n",
    "    else:\n",
    "        conv_layers = [max(1, int(layer * factor)) for layer in conv_layers if layer > 1]\n",
    "        dense_layers = [max(1, int(layer * factor)) for layer in dense_layers if layer > 1]\n",
    "\n",
    "    conv_layers = [layer for layer in conv_layers if layer >= 4]\n",
    "    dense_layers = [layer for layer in dense_layers if layer >= 8]\n",
    "\n",
    "    return conv_layers, dense_layers"
   ]
  },
  {
   "cell_type": "code",
   "execution_count": null,
   "metadata": {},
   "outputs": [],
   "source": [
    "from tensorflow.keras.backend import clear_session\n",
    "\n",
    "def optimize(conv_layers, dense_layers, target, max_iter=10, layer_factor=0.8, random_factor=None):\n",
    "    trainable_params_list = []\n",
    "    training_time_list = []\n",
    "    iteration_list = []\n",
    "\n",
    "    failed_trains = 0\n",
    "\n",
    "    for i in range(max_iter):\n",
    "        print(f\"Training model with: {conv_layers}, {dense_layers}\")\n",
    "\n",
    "        model = sect1()\n",
    "        trainable_params = model.initialise_data_and_model(conv_layers=conv_layers, dense_layers=dense_layers)\n",
    "        params = {'epochs': 30,\n",
    "                'tensorboard': False, \n",
    "                'cp_callback': False,\n",
    "                'weights': None,\n",
    "                'stop_at': target,\n",
    "                'save_final': True,\n",
    "                }\n",
    "        reached_target, training_time = model.train(params)\n",
    "\n",
    "        print(f\"Training time: {training_time}s\")\n",
    "        trainable_params_list.append(trainable_params)\n",
    "        training_time_list.append(training_time)\n",
    "        iteration_list.append(i)\n",
    "\n",
    "        model.plot()\n",
    "\n",
    "        # If the target is not reached, break the loop\n",
    "        if not random_factor and reached_target == False:\n",
    "            failed_trains += 1\n",
    "            print(f\"target value not reached, attempt: {failed_trains}\")\n",
    "            if failed_trains >= 2:\n",
    "                print(f\"target value not reached, done optimizing\")\n",
    "                break\n",
    "\n",
    "        # Reduce the model size for the next iteration\n",
    "        conv_layers, dense_layers = reduce_model_size(conv_layers, dense_layers, factor=layer_factor, rand_factor=random_factor)\n",
    "\n",
    "        clear_session()\n",
    "\n",
    "    return trainable_params_list, training_time_list, iteration_list"
   ]
  },
  {
   "cell_type": "code",
   "execution_count": null,
   "metadata": {},
   "outputs": [],
   "source": [
    "import matplotlib.pyplot as plt\n",
    "\n",
    "def plot_results(trainable_params_list, training_time_list, iteration_list, figsize=(15, 5)):\n",
    "    # Plot the first graph: Trainable parameters vs. Training time\n",
    "    plt.figure(figsize=figsize)\n",
    "\n",
    "    plt.subplot(1, 3, 1)  # Plot in the first subplot (1 row, 3 columns)\n",
    "    plt.plot(trainable_params_list[::-1], training_time_list, marker='o', linestyle='-', color='b')\n",
    "    plt.xlabel('Trainable Parameters')\n",
    "    plt.ylabel('Training Time (seconds)')\n",
    "    plt.title('Trainable Parameters vs Training Time')\n",
    "\n",
    "    # Plot the second graph: Iteration vs. Training time\n",
    "    plt.subplot(1, 3, 2)  # Plot in the second subplot\n",
    "    plt.plot(iteration_list, training_time_list, marker='x', linestyle='-', color='r')\n",
    "    plt.xlabel('Iteration')\n",
    "    plt.ylabel('Training Time (seconds)')\n",
    "    plt.title('Iteration vs Training Time')\n",
    "\n",
    "    # Plot the third graph: Trainable Parameters vs Iteration\n",
    "    plt.subplot(1, 3, 3)  # Plot in the third subplot\n",
    "    plt.plot(iteration_list, trainable_params_list, marker='^', linestyle='-', color='g')\n",
    "    plt.xlabel('Iteration')\n",
    "    plt.ylabel('Trainable Parameters')\n",
    "    plt.title('Trainable Parameters vs Iteration')\n",
    "\n",
    "    # Show all plots\n",
    "    plt.tight_layout()\n",
    "    plt.show()\n"
   ]
  },
  {
   "cell_type": "code",
   "execution_count": null,
   "metadata": {},
   "outputs": [],
   "source": [
    "conv_layers = [64,128,256,32]\n",
    "dense_layers = [16,256,128]\n",
    "target = 4\n",
    "\n",
    "params, time, iter = optimize(conv_layers=conv_layers, dense_layers=dense_layers, target=target, max_iter=100, random_factor=(0.2, 1.3))"
   ]
  },
  {
   "cell_type": "code",
   "execution_count": null,
   "metadata": {},
   "outputs": [],
   "source": [
    "plot_results(params, time, iter)"
   ]
  }
 ],
 "metadata": {
  "kernelspec": {
   "display_name": "Python 3",
   "language": "python",
   "name": "python3"
  },
  "language_info": {
   "codemirror_mode": {
    "name": "ipython",
    "version": 3
   },
   "file_extension": ".py",
   "mimetype": "text/x-python",
   "name": "python",
   "nbconvert_exporter": "python",
   "pygments_lexer": "ipython3",
   "version": "3.10.9"
  }
 },
 "nbformat": 4,
 "nbformat_minor": 2
}
