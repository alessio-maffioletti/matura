{
 "cells": [
  {
   "cell_type": "code",
   "execution_count": 1,
   "metadata": {},
   "outputs": [
    {
     "name": "stdout",
     "output_type": "stream",
     "text": [
      "Num GPUs Available:  1\n"
     ]
    },
    {
     "name": "stderr",
     "output_type": "stream",
     "text": [
      "c:\\Users\\aless\\AppData\\Local\\Programs\\Python\\Python310\\lib\\site-packages\\tqdm\\auto.py:21: TqdmWarning: IProgress not found. Please update jupyter and ipywidgets. See https://ipywidgets.readthedocs.io/en/stable/user_install.html\n",
      "  from .autonotebook import tqdm as notebook_tqdm\n"
     ]
    }
   ],
   "source": [
    "from model_manager import section1, section2, single_model\n",
    "import optimizer as opt\n",
    "import dataset_creator\n",
    "from constants import *"
   ]
  },
  {
   "cell_type": "code",
   "execution_count": null,
   "metadata": {},
   "outputs": [],
   "source": [
    "dataset1_generator = dataset_creator.Dataset1()\n",
    "dataset1_generator.generate_dataset(train_size=30000, test_size=10000, whole_dataset=True)"
   ]
  },
  {
   "cell_type": "code",
   "execution_count": null,
   "metadata": {},
   "outputs": [
    {
     "name": "stderr",
     "output_type": "stream",
     "text": [
      "[I 2024-12-10 00:38:07,244] A new study created in memory with name: no-name-12a50c79-c220-49ff-81a1-ab7251f03ece\n"
     ]
    },
    {
     "data": {
      "image/png": "[encoded data removed]",
      "text/plain": [
       "<Figure size 200x200 with 1 Axes>"
      ]
     },
     "metadata": {},
     "output_type": "display_data"
    }
   ],
   "source": [
    "optim = opt.BayesianOptimizer()\n",
    "\n",
    "\n",
    "params = {\n",
    "    'max_conv_layers': 5,\n",
    "    'max_dense_layers': 5,\n",
    "    'max_conv_size': 256,\n",
    "    'max_dense_size': 256,\n",
    "    'epochs': 10\n",
    "}\n",
    "\n",
    "\n",
    "model = section1()\n",
    "\n",
    "best_trial = optim.optimize(model, target=1.5, initial_params=params, max_trials=10, write_to_file=True)"
   ]
  },
  {
   "cell_type": "code",
   "execution_count": null,
   "metadata": {},
   "outputs": [],
   "source": [
    "print(best_conv, best_dense)"
   ]
  },
  {
   "cell_type": "code",
   "execution_count": null,
   "metadata": {},
   "outputs": [],
   "source": [
    "dataset2_gen = dataset_creator.Dataset2(weights=SECT1_CHECKPOINT_FOLDER + f'model_optimize_{iter_num}.weights.h5', conv_layers=best_conv, dense_layers=best_dense)\n",
    "dataset2_gen.generate_dataset()"
   ]
  },
  {
   "cell_type": "code",
   "execution_count": null,
   "metadata": {},
   "outputs": [],
   "source": [
    "conv_layers = [256,64,16]\n",
    "dense_layers = [64,128,256]\n",
    "target = 0.9\n",
    "model = section2()\n",
    "optimizer = opt.Optimizer()\n",
    "best_conv, best_dense, iter_num = optimizer.optimize(model, conv_layers, dense_layers, target, max_iter=10, max_failed_trains=2)"
   ]
  },
  {
   "cell_type": "code",
   "execution_count": null,
   "metadata": {},
   "outputs": [],
   "source": [
    "print(best_conv, best_dense, iter_num)"
   ]
  },
  {
   "cell_type": "code",
   "execution_count": null,
   "metadata": {},
   "outputs": [],
   "source": [
    "model = section2()\n",
    "model.initialise_data_and_model(best_conv, best_dense)\n",
    "model.eval_random()"
   ]
  },
  {
   "cell_type": "code",
   "execution_count": null,
   "metadata": {},
   "outputs": [],
   "source": [
    "conv_layers = [256,64,16]\n",
    "dense_layers = [64,128,256]\n",
    "target = 0.9\n",
    "model = single_model()\n",
    "optimizer = opt.Optimizer()\n",
    "best_conv, best_dense, iter_num = optimizer.optimize(model, conv_layers, dense_layers, target, max_iter=10, max_failed_trains=2)\n",
    "print(best_conv, best_dense, iter_num)"
   ]
  },
  {
   "cell_type": "code",
   "execution_count": null,
   "metadata": {},
   "outputs": [],
   "source": [
    "[104, 25, 5], [25, 51, 104]"
   ]
  },
  {
   "cell_type": "code",
   "execution_count": null,
   "metadata": {},
   "outputs": [],
   "source": [
    "optim = opt.BayesianOptimizer()\n",
    "\n",
    "initial_params = {\"conv_layers\": [104, 25, 5], \"dense_layers\": [25, 51, 104]}  # Your initial configuration\n",
    "model = single_model()\n",
    "\n",
    "best_trial = optim.optimize(model, initial_params, target=0.9, max_trials=20)"
   ]
  },
  {
   "cell_type": "markdown",
   "metadata": {},
   "source": [
    "Best trial: {'conv_0_size': 5, 'conv_1_size': 15, 'conv_2_size': 26, 'dense_0_size': 98, 'dense_1_size': 180, 'dense_2_size': 164}"
   ]
  },
  {
   "cell_type": "code",
   "execution_count": null,
   "metadata": {},
   "outputs": [],
   "source": [
    "params_dics = best_trial.params\n",
    "best_conv = [param for key, param in params_dics.items() if key[0] == 'c']\n",
    "best_dense = [param for key, param in params_dics.items() if key[0] == 'd']"
   ]
  },
  {
   "cell_type": "code",
   "execution_count": null,
   "metadata": {},
   "outputs": [],
   "source": [
    "print(best_conv, best_dense)"
   ]
  },
  {
   "cell_type": "code",
   "execution_count": null,
   "metadata": {},
   "outputs": [],
   "source": [
    "best_conv = [23, 13, 72]\n",
    "best_dense = [84, 163, 181]\n",
    "params = {'epochs': 30,\n",
    "        'tensorboard': True, \n",
    "        'cp_callback': False,\n",
    "        'weights': None,\n",
    "        'stop_at': 0.9,\n",
    "        'save_final': True,\n",
    "        'weight_string': f'_best'\n",
    "        }\n",
    "model = single_model()\n",
    "model.initialise_data_and_model(best_conv, best_dense)\n",
    "_,time = model.train(params)\n",
    "print(time)"
   ]
  },
  {
   "cell_type": "code",
   "execution_count": null,
   "metadata": {},
   "outputs": [],
   "source": [
    "model.model.load_weights(SINGLE_CHECKPOINT_FOLDER + 'single_model_best.weights.h5')"
   ]
  },
  {
   "cell_type": "code",
   "execution_count": null,
   "metadata": {},
   "outputs": [],
   "source": [
    "model.eval_random()"
   ]
  }
 ],
 "metadata": {
  "kernelspec": {
   "display_name": "Python 3",
   "language": "python",
   "name": "python3"
  },
  "language_info": {
   "codemirror_mode": {
    "name": "ipython",
    "version": 3
   },
   "file_extension": ".py",
   "mimetype": "text/x-python",
   "name": "python",
   "nbconvert_exporter": "python",
   "pygments_lexer": "ipython3",
   "version": "3.10.9"
  }
 },
 "nbformat": 4,
 "nbformat_minor": 2
}
