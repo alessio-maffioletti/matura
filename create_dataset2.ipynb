{
 "cells": [
  {
   "cell_type": "code",
   "execution_count": 1,
   "metadata": {},
   "outputs": [],
   "source": [
    "import matplotlib.pyplot as plt\n",
    "import numpy as np\n",
    "import mymodels\n",
    "import tensorflow as tf"
   ]
  },
  {
   "cell_type": "code",
   "execution_count": 2,
   "metadata": {},
   "outputs": [],
   "source": [
    "main_folder = '../'\n",
    "dataset_folder = main_folder + 'dataset_tfrecord/'\n",
    "dataset2_folder = main_folder + 'dataset2/'\n",
    "logs_folder = main_folder + 'logs/'\n",
    "checkpoints_folder = main_folder + 'checkpoints_sect1/'"
   ]
  },
  {
   "cell_type": "code",
   "execution_count": 3,
   "metadata": {},
   "outputs": [],
   "source": [
    "def load_tfrecord(filename, dataset_type=tf.int32):\n",
    "    parse_tensor = lambda x: tf.io.parse_tensor(x, dataset_type)\n",
    "    return tf.data.TFRecordDataset(filename).map(parse_tensor)\n",
    "\n",
    "def get_tensor(x):\n",
    "    for tensor in x:\n",
    "        return tensor\n",
    "    \n",
    "def make_tf_dataset(X, y, batch_size=32):\n",
    "    dataset = tf.data.Dataset.from_tensor_slices((X, y))\n",
    "    dataset = dataset.batch(batch_size).prefetch(buffer_size=tf.data.AUTOTUNE)\n",
    "    return dataset"
   ]
  },
  {
   "cell_type": "code",
   "execution_count": 4,
   "metadata": {},
   "outputs": [],
   "source": [
    "X = get_tensor(load_tfrecord(dataset_folder + 'train_image.tfrecord', dataset_type=tf.double))\n",
    "y = get_tensor(load_tfrecord(dataset_folder + 'train_label.tfrecord', dataset_type=tf.int64))\n",
    "\n",
    "X_test = get_tensor(load_tfrecord(dataset_folder + 'test_image.tfrecord', dataset_type=tf.double))\n",
    "y_test = get_tensor(load_tfrecord(dataset_folder + 'test_label.tfrecord', dataset_type=tf.int64))"
   ]
  },
  {
   "cell_type": "markdown",
   "metadata": {},
   "source": [
    "X_train_canvas = np.load(dataset_folder + 'X_train_canvas.npy')\n",
    "X_test_canvas = np.load(dataset_folder + 'X_test_canvas.npy')\n",
    "y_train = np.load(dataset_folder + 'y_train.npy')\n",
    "y_test = np.load(dataset_folder + 'y_test.npy')"
   ]
  },
  {
   "cell_type": "code",
   "execution_count": 5,
   "metadata": {},
   "outputs": [],
   "source": [
    "X_train_canvas = X.numpy()\n",
    "X_test_canvas = X_test.numpy()\n",
    "\n",
    "y_train = y.numpy()\n",
    "y_test = y_test.numpy()"
   ]
  },
  {
   "cell_type": "code",
   "execution_count": 6,
   "metadata": {},
   "outputs": [],
   "source": [
    "weights = checkpoints_folder + 'sect1_epoch_100.weights.h5'\n",
    "model = mymodels.sect1()\n",
    "model.compile()\n",
    "model.load_weights(weights)"
   ]
  },
  {
   "cell_type": "code",
   "execution_count": 7,
   "metadata": {},
   "outputs": [],
   "source": [
    "def crop_images(X_train_canvas):\n",
    "    X_cropped = []\n",
    "    crop_amount = 32\n",
    "    base_grace = 5\n",
    "\n",
    "    small_data = X_train_canvas #[:100]\n",
    "\n",
    "    for i in range(small_data.shape[0]):\n",
    "        grace = base_grace\n",
    "\n",
    "        image = small_data[i]\n",
    "        coords = model.predict(image.reshape(1, 128, 128, 1))\n",
    "        x = int(coords[0][0])\n",
    "        y = int(coords[0][1])\n",
    "        if x > 128-crop_amount-grace:\n",
    "            x = 128-crop_amount-grace\n",
    "        if x < grace:\n",
    "            x = grace\n",
    "        if y > 128-crop_amount-grace:\n",
    "            y = 128-crop_amount-grace\n",
    "        if y < grace:\n",
    "            y = grace\n",
    "        \n",
    "        cropped_image = image[y-grace:y+crop_amount+grace, x-grace:x+crop_amount+grace]\n",
    "\n",
    "        if cropped_image.shape != (42,42,1):\n",
    "            print(f\"Error: {cropped_image.shape}\")\n",
    "            print(x,y)\n",
    "            plt.imshow(cropped_image)\n",
    "            plt.show()\n",
    "            plt.imshow(image)\n",
    "            plt.show()\n",
    "        X_cropped.append(cropped_image)\n",
    "        print(f\"\\rNum: {i+1} / {small_data.shape[0]}\", end='')\n",
    "\n",
    "    X_cropped = np.array(X_cropped)\n",
    "    return X_cropped"
   ]
  },
  {
   "cell_type": "code",
   "execution_count": 8,
   "metadata": {},
   "outputs": [
    {
     "name": "stdout",
     "output_type": "stream",
     "text": [
      "Num: 128 / 128"
     ]
    }
   ],
   "source": [
    "X_cropped = crop_images(X_train_canvas)\n",
    "X_test_cropped = crop_images(X_test_canvas)"
   ]
  },
  {
   "cell_type": "code",
   "execution_count": 9,
   "metadata": {},
   "outputs": [
    {
     "data": {
      "text/plain": [
       "<matplotlib.image.AxesImage at 0x188afd747c0>"
      ]
     },
     "execution_count": 9,
     "metadata": {},
     "output_type": "execute_result"
    },
    {
     "data": {
      "image/png": "[encoded data removed]",
      "text/plain": [
       "<Figure size 640x480 with 1 Axes>"
      ]
     },
     "metadata": {},
     "output_type": "display_data"
    }
   ],
   "source": [
    "#show random sample\n",
    "import random\n",
    "rand = X_cropped[random.randint(0, X_cropped.shape[0]-1)]\n",
    "plt.imshow(rand)"
   ]
  },
  {
   "cell_type": "code",
   "execution_count": 10,
   "metadata": {},
   "outputs": [],
   "source": [
    "def write(X, filename):\n",
    "    serialized = tf.io.serialize_tensor(X)\n",
    "    record_file = filename\n",
    "\n",
    "    with tf.io.TFRecordWriter(record_file) as writer:\n",
    "        writer.write(serialized.numpy())\n",
    "\n",
    "def write_in_batches(data, filename, batch_size=100):\n",
    "    record_file = filename\n",
    "    with tf.io.TFRecordWriter(record_file) as writer:\n",
    "        # Iterate through the dataset in batches\n",
    "        for i in range(0, len(data), batch_size):\n",
    "            # Check if this batch is a full batch\n",
    "            if i + batch_size <= len(data):\n",
    "                batch = data[i:i + batch_size]\n",
    "                serialized = tf.io.serialize_tensor(batch)\n",
    "                writer.write(serialized.numpy())"
   ]
  },
  {
   "cell_type": "code",
   "execution_count": 11,
   "metadata": {},
   "outputs": [],
   "source": [
    "write_in_batches(X_cropped, 'train_image_cropped.tfrecord', batch_size=512)\n",
    "write_in_batches(y_train, 'train_label.tfrecord', batch_size=512)\n",
    "\n",
    "write_in_batches(X_test_cropped, 'test_image_cropped.tfrecord', batch_size=512)\n",
    "write_in_batches(y_test, 'test_label.tfrecord', batch_size=512)"
   ]
  },
  {
   "cell_type": "code",
   "execution_count": null,
   "metadata": {},
   "outputs": [],
   "source": []
  }
 ],
 "metadata": {
  "kernelspec": {
   "display_name": "Python 3",
   "language": "python",
   "name": "python3"
  },
  "language_info": {
   "codemirror_mode": {
    "name": "ipython",
    "version": 3
   },
   "file_extension": ".py",
   "mimetype": "text/x-python",
   "name": "python",
   "nbconvert_exporter": "python",
   "pygments_lexer": "ipython3",
   "version": "3.10.9"
  }
 },
 "nbformat": 4,
 "nbformat_minor": 2
}
