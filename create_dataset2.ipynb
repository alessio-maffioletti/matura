{
 "cells": [
  {
   "cell_type": "code",
   "execution_count": 1,
   "metadata": {},
   "outputs": [],
   "source": [
    "import matplotlib.pyplot as plt\n",
    "import numpy as np\n",
    "import mymodels"
   ]
  },
  {
   "cell_type": "code",
   "execution_count": 2,
   "metadata": {},
   "outputs": [],
   "source": [
    "main_folder = '../'\n",
    "dataset_folder = main_folder + 'dataset/'\n",
    "logs_folder = main_folder + 'logs/'\n",
    "checkpoints_folder = main_folder + 'checkpoints/'"
   ]
  },
  {
   "cell_type": "code",
   "execution_count": 3,
   "metadata": {},
   "outputs": [],
   "source": [
    "X_train_canvas = np.load(dataset_folder + 'X_train_canvas.npy')\n",
    "X_test_canvas = np.load(dataset_folder + 'X_test_canvas.npy')\n",
    "y_train = np.load(dataset_folder + 'y_train.npy')\n",
    "y_test = np.load(dataset_folder + 'y_test.npy')"
   ]
  },
  {
   "cell_type": "code",
   "execution_count": 4,
   "metadata": {},
   "outputs": [
    {
     "name": "stderr",
     "output_type": "stream",
     "text": [
      "c:\\Users\\aless\\anaconda3\\Lib\\site-packages\\keras\\src\\saving\\saving_lib.py:396: UserWarning: Skipping variable loading for optimizer 'adam', because it has 2 variables whereas the saved optimizer has 22 variables. \n",
      "  trackable.load_own_variables(weights_store.get(inner_path))\n"
     ]
    }
   ],
   "source": [
    "weights = checkpoints_folder + 'model_epoch_30.weights.h5'\n",
    "model = mymodels.sect1()\n",
    "model.compile()\n",
    "model.load_weights(weights)"
   ]
  },
  {
   "cell_type": "code",
   "execution_count": 15,
   "metadata": {},
   "outputs": [
    {
     "name": "stdout",
     "output_type": "stream",
     "text": [
      "Num: 99 / 100"
     ]
    }
   ],
   "source": [
    "X_cropped = []\n",
    "crop_amount = 32\n",
    "grace = 5\n",
    "\n",
    "small_data = X_train_canvas[:100]\n",
    "\n",
    "for i in range(small_data.shape[0]):\n",
    "    image = small_data[i]\n",
    "    coords = model.predict(image.reshape(1, 128, 128, 1))\n",
    "    x = int(coords[0][0])\n",
    "    y = int(coords[0][1])\n",
    "    cropped_image = image[y-grace:y+crop_amount+grace, x-grace:x+crop_amount+grace]\n",
    "    X_cropped.append(cropped_image)\n",
    "    print(f\"\\rNum: {i+1} / {small_data.shape[0]}\", end='')"
   ]
  },
  {
   "cell_type": "code",
   "execution_count": 19,
   "metadata": {},
   "outputs": [
    {
     "data": {
      "text/plain": [
       "(42, 42)"
      ]
     },
     "execution_count": 19,
     "metadata": {},
     "output_type": "execute_result"
    }
   ],
   "source": [
    "X_cropped[0].shape"
   ]
  },
  {
   "cell_type": "code",
   "execution_count": null,
   "metadata": {},
   "outputs": [],
   "source": []
  }
 ],
 "metadata": {
  "kernelspec": {
   "display_name": "base",
   "language": "python",
   "name": "python3"
  },
  "language_info": {
   "codemirror_mode": {
    "name": "ipython",
    "version": 3
   },
   "file_extension": ".py",
   "mimetype": "text/x-python",
   "name": "python",
   "nbconvert_exporter": "python",
   "pygments_lexer": "ipython3",
   "version": "3.11.7"
  }
 },
 "nbformat": 4,
 "nbformat_minor": 2
}
