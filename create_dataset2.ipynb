{
 "cells": [
  {
   "cell_type": "code",
   "execution_count": null,
   "metadata": {},
   "outputs": [],
   "source": [
    "import matplotlib.pyplot as plt\n",
    "import numpy as np\n",
    "import mymodels"
   ]
  },
  {
   "cell_type": "code",
   "execution_count": 52,
   "metadata": {},
   "outputs": [],
   "source": [
    "main_folder = '../'\n",
    "dataset_folder = main_folder + 'dataset/'\n",
    "dataset2_folder = main_folder + 'dataset2/'\n",
    "logs_folder = main_folder + 'logs/'\n",
    "checkpoints_folder = main_folder + 'checkpoints/'"
   ]
  },
  {
   "cell_type": "code",
   "execution_count": null,
   "metadata": {},
   "outputs": [],
   "source": [
    "X_train_canvas = np.load(dataset_folder + 'X_train_canvas.npy')\n",
    "X_test_canvas = np.load(dataset_folder + 'X_test_canvas.npy')\n",
    "y_train = np.load(dataset_folder + 'y_train.npy')\n",
    "y_test = np.load(dataset_folder + 'y_test.npy')"
   ]
  },
  {
   "cell_type": "code",
   "execution_count": null,
   "metadata": {},
   "outputs": [],
   "source": [
    "weights = checkpoints_folder + 'model_epoch_30.weights.h5'\n",
    "model = mymodels.sect1()\n",
    "model.compile()\n",
    "model.load_weights(weights)"
   ]
  },
  {
   "cell_type": "code",
   "execution_count": 49,
   "metadata": {},
   "outputs": [
    {
     "name": "stdout",
     "output_type": "stream",
     "text": [
      "Num: 100 / 100"
     ]
    }
   ],
   "source": [
    "X_cropped = []\n",
    "crop_amount = 32\n",
    "base_grace = 5\n",
    "\n",
    "small_data = X_train_canvas[:100]\n",
    "\n",
    "for i in range(small_data.shape[0]):\n",
    "    grace = base_grace\n",
    "\n",
    "    image = small_data[i]\n",
    "    coords = model.predict(image.reshape(1, 128, 128, 1))\n",
    "    x = int(coords[0][0])\n",
    "    y = int(coords[0][1])\n",
    "    if x > 128-crop_amount-grace:\n",
    "        x = 128-crop_amount-grace\n",
    "    if x < grace:\n",
    "        x = grace\n",
    "    if y > 128-crop_amount-grace:\n",
    "        y = 128-crop_amount-grace\n",
    "    if y < grace:\n",
    "        y = grace\n",
    "    \n",
    "    cropped_image = image[y-grace:y+crop_amount+grace, x-grace:x+crop_amount+grace]\n",
    "\n",
    "    if cropped_image.shape != (42,42):\n",
    "        print(f\"Error: {cropped_image.shape}\")\n",
    "        print(x,y)\n",
    "        plt.imshow(cropped_image)\n",
    "        plt.show()\n",
    "        plt.imshow(image)\n",
    "        plt.show()\n",
    "    X_cropped.append(cropped_image)\n",
    "    print(f\"\\rNum: {i+1} / {small_data.shape[0]}\", end='')"
   ]
  },
  {
   "cell_type": "code",
   "execution_count": 50,
   "metadata": {},
   "outputs": [],
   "source": [
    "for i, n in enumerate(X_cropped):\n",
    "    if n.shape != (42,42):\n",
    "        print(f\"{i}, {n.shape}\")\n",
    "        plt.imshow(n)\n",
    "        plt.show()"
   ]
  },
  {
   "cell_type": "code",
   "execution_count": 51,
   "metadata": {},
   "outputs": [],
   "source": [
    "X_cropped = np.array(X_cropped)"
   ]
  },
  {
   "cell_type": "code",
   "execution_count": 54,
   "metadata": {},
   "outputs": [],
   "source": [
    "np.save(dataset2_folder + 'X_cropped.npy', X_cropped)\n",
    "np.save(dataset2_folder + 'y_train.npy', y_train[:100])"
   ]
  },
  {
   "cell_type": "code",
   "execution_count": null,
   "metadata": {},
   "outputs": [],
   "source": []
  }
 ],
 "metadata": {
  "kernelspec": {
   "display_name": "base",
   "language": "python",
   "name": "python3"
  },
  "language_info": {
   "codemirror_mode": {
    "name": "ipython",
    "version": 3
   },
   "file_extension": ".py",
   "mimetype": "text/x-python",
   "name": "python",
   "nbconvert_exporter": "python",
   "pygments_lexer": "ipython3",
   "version": "3.12.7"
  }
 },
 "nbformat": 4,
 "nbformat_minor": 2
}
