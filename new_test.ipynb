{
 "cells": [
  {
   "cell_type": "code",
   "execution_count": null,
   "metadata": {},
   "outputs": [],
   "source": [
    "import numpy as np\n",
    "import matplotlib.pyplot as plt\n",
    "import seaborn as sns\n",
    "import mymodels\n",
    "import tensorflow as tf\n",
    "from tensorflow.keras.backend import clear_session"
   ]
  },
  {
   "cell_type": "code",
   "execution_count": null,
   "metadata": {},
   "outputs": [],
   "source": [
    "#main_folder = '../'   #main use\n",
    "main_folder = './'     #for debugging\n",
    "dataset_folder = main_folder + 'dataset2_debug/'\n",
    "checkpoints_folder = main_folder + 'checkpoints_sect2/'\n",
    "logs_folder = main_folder + 'logs/'"
   ]
  },
  {
   "cell_type": "code",
   "execution_count": null,
   "metadata": {},
   "outputs": [],
   "source": [
    "dataset = tf.data.TFRecordDataset(main_folder + 'train.tfrecord')\n",
    "#coords_dataset = tf.data.TFRecordDataset(main_folder + 'coords.tfrecord')\n"
   ]
  },
  {
   "cell_type": "code",
   "execution_count": null,
   "metadata": {},
   "outputs": [],
   "source": [
    "def _parse_image_function(example_proto):\n",
    "    # Define the features to be extracted (serialized image and label)\n",
    "    image_feature_description = {\n",
    "        'image': tf.io.FixedLenFeature([], tf.string),  # Expecting the image as a serialized tensor (string)\n",
    "        'label': tf.io.FixedLenFeature([], tf.string),  # Expecting the label as a serialized tensor (string)\n",
    "    }\n",
    "\n",
    "    # Parse the input tf.train.Example proto using the dictionary\n",
    "    parsed_features = tf.io.parse_single_example(example_proto, image_feature_description)\n",
    "    \n",
    "    # Deserialize the image and label tensors\n",
    "    image = tf.io.parse_tensor(parsed_features['image'], out_type=tf.double)  # Deserialize image tensor\n",
    "    label = tf.io.parse_tensor(parsed_features['label'], out_type=tf.int32)  # Deserialize label tensor\n",
    "\n",
    "    # Ensure that the image tensor has the correct shape\n",
    "    image.set_shape([128, 128, 128, 1])  # Set the known shape for the image tensor\n",
    "\n",
    "    # Ensure that the label tensor has the correct shape\n",
    "    label.set_shape([128,1])\n",
    "\n",
    "    return image, label"
   ]
  },
  {
   "cell_type": "code",
   "execution_count": null,
   "metadata": {},
   "outputs": [],
   "source": [
    "parsed_dataset = dataset.map(_parse_image_function)\n",
    "#parsed_coords = dataset.map(_parse_image_function)"
   ]
  },
  {
   "cell_type": "code",
   "execution_count": null,
   "metadata": {},
   "outputs": [],
   "source": [
    "#parsed_dataset = parsed_dataset"
   ]
  },
  {
   "cell_type": "code",
   "execution_count": null,
   "metadata": {},
   "outputs": [],
   "source": [
    "for data in parsed_dataset:\n",
    "  a,b = data\n",
    "  print(a.shape, b.shape)\n",
    "  print(b)\n"
   ]
  }
 ],
 "metadata": {
  "kernelspec": {
   "display_name": "Python 3",
   "language": "python",
   "name": "python3"
  },
  "language_info": {
   "codemirror_mode": {
    "name": "ipython",
    "version": 3
   },
   "file_extension": ".py",
   "mimetype": "text/x-python",
   "name": "python",
   "nbconvert_exporter": "python",
   "pygments_lexer": "ipython3",
   "version": "3.10.9"
  }
 },
 "nbformat": 4,
 "nbformat_minor": 2
}
