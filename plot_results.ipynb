{
 "cells": [
  {
   "cell_type": "code",
   "execution_count": 2,
   "metadata": {},
   "outputs": [
    {
     "name": "stdout",
     "output_type": "stream",
     "text": [
      "Num GPUs Available:  1\n"
     ]
    }
   ],
   "source": [
    "from constants import *\n",
    "from model_manager import section1, section2, single_model"
   ]
  },
  {
   "cell_type": "code",
   "execution_count": 3,
   "metadata": {},
   "outputs": [],
   "source": [
    "import numpy as np\n",
    "import tensorflow as tf\n",
    "\n",
    "def get_metrics(model):\n",
    "    y_pred = model.model.evaluate(model.val_dataset)\n",
    "\n",
    "\n",
    "    y_labels = []\n",
    "    for batch in model.val_dataset.take(-1):\n",
    "        _, coords_batch = batch\n",
    "        coords_batch = coords_batch.numpy()\n",
    "        y_labels.append(coords_batch)\n",
    "\n",
    "    y_labels = np.array(y_labels)\n",
    "    y_true = y_labels.reshape(-1, y_labels.shape[2])\n",
    "\n",
    "    # Calculate additional metrics\n",
    "    # Mean Absolute Error (MAE)\n",
    "    mae_metric = tf.keras.losses.MeanAbsoluteError()\n",
    "    mae_value = mae_metric(y_true, y_pred).numpy()\n",
    "    print(\"Mean Absolute Error (MAE):\", mae_value)\n",
    "\n",
    "    # Categorical Crossentropy\n",
    "    crossentropy_metric = tf.keras.losses.CategoricalCrossentropy()\n",
    "    crossentropy_value = crossentropy_metric(y_true, y_pred).numpy()\n",
    "    print(\"Categorical Crossentropy:\", crossentropy_value)\n",
    "\n",
    "    # Accuracy (for classification problems)\n",
    "    # Convert predictions and true labels to class indices\n",
    "    y_true_classes = np.argmax(y_true, axis=1)\n",
    "    y_pred_classes = np.argmax(y_pred, axis=1)\n",
    "    accuracy = np.mean(y_true_classes == y_pred_classes)\n",
    "    print(\"Accuracy:\", 1-accuracy)\n",
    "    return mae_value, crossentropy_value, 1-accuracy"
   ]
  },
  {
   "cell_type": "code",
   "execution_count": 4,
   "metadata": {},
   "outputs": [
    {
     "name": "stdout",
     "output_type": "stream",
     "text": [
      "model compiled with params: {'num_conv_layers': 5, 'num_dense_layers': 4, 'conv_0_size': 178, 'conv_1_size': 30, 'conv_2_size': 54, 'conv_3_size': 84, 'conv_4_size': 80, 'dense_0_size': 112, 'dense_1_size': 97, 'dense_2_size': 7, 'dense_3_size': 110, 'flatten_type': 'global_average', 'activation': 'relu', 'optimizer': 'adam', 'conv_layers': [32, 64], 'dense_layers': [128, 64], 'learning_rate': 0.001, 'dropout': 0.01}\n"
     ]
    },
    {
     "data": {
      "image/png": "[encoded data removed]",
      "text/plain": [
       "<Figure size 200x200 with 1 Axes>"
      ]
     },
     "metadata": {},
     "output_type": "display_data"
    },
    {
     "ename": "ValueError",
     "evalue": "Layer count mismatch when loading weights from file. Model expected 5 layers, found 10 saved layers.",
     "output_type": "error",
     "traceback": [
      "\u001b[1;31m---------------------------------------------------------------------------\u001b[0m",
      "\u001b[1;31mValueError\u001b[0m                                Traceback (most recent call last)",
      "Cell \u001b[1;32mIn[4], line 18\u001b[0m\n\u001b[0;32m      1\u001b[0m model \u001b[38;5;241m=\u001b[39m section1()\n\u001b[0;32m      2\u001b[0m params\u001b[38;5;241m=\u001b[39m{\n\u001b[0;32m      3\u001b[0m             \u001b[38;5;124m\"\u001b[39m\u001b[38;5;124mnum_conv_layers\u001b[39m\u001b[38;5;124m\"\u001b[39m: \u001b[38;5;241m5\u001b[39m,\n\u001b[0;32m      4\u001b[0m             \u001b[38;5;124m\"\u001b[39m\u001b[38;5;124mnum_dense_layers\u001b[39m\u001b[38;5;124m\"\u001b[39m: \u001b[38;5;241m4\u001b[39m,\n\u001b[1;32m   (...)\u001b[0m\n\u001b[0;32m     16\u001b[0m             \u001b[38;5;124m\"\u001b[39m\u001b[38;5;124moptimizer\u001b[39m\u001b[38;5;124m\"\u001b[39m: \u001b[38;5;124m\"\u001b[39m\u001b[38;5;124madam\u001b[39m\u001b[38;5;124m\"\u001b[39m\n\u001b[0;32m     17\u001b[0m         }\n\u001b[1;32m---> 18\u001b[0m \u001b[43mmodel\u001b[49m\u001b[38;5;241;43m.\u001b[39;49m\u001b[43minitialise_data_and_model\u001b[49m\u001b[43m(\u001b[49m\u001b[43mtrain_params\u001b[49m\u001b[38;5;241;43m=\u001b[39;49m\u001b[43mparams\u001b[49m\u001b[43m,\u001b[49m\u001b[43m \u001b[49m\u001b[43mweights\u001b[49m\u001b[38;5;241;43m=\u001b[39;49m\u001b[43mSECT1_CHECKPOINT_FOLDER\u001b[49m\u001b[43m \u001b[49m\u001b[38;5;241;43m+\u001b[39;49m\u001b[43m \u001b[49m\u001b[38;5;124;43mf\u001b[39;49m\u001b[38;5;124;43m'\u001b[39;49m\u001b[38;5;124;43mregression_model_optimize_\u001b[39;49m\u001b[38;5;132;43;01m{\u001b[39;49;00m\u001b[38;5;241;43m3\u001b[39;49m\u001b[38;5;132;43;01m}\u001b[39;49;00m\u001b[38;5;124;43m.weights.h5\u001b[39;49m\u001b[38;5;124;43m'\u001b[39;49m\u001b[43m)\u001b[49m\n\u001b[0;32m     19\u001b[0m params2 \u001b[38;5;241m=\u001b[39m {\n\u001b[0;32m     20\u001b[0m     \u001b[38;5;124m\"\u001b[39m\u001b[38;5;124mstop_at\u001b[39m\u001b[38;5;124m\"\u001b[39m: \u001b[38;5;241m5\u001b[39m,\n\u001b[0;32m     21\u001b[0m     \u001b[38;5;124m\"\u001b[39m\u001b[38;5;124mshow_progress\u001b[39m\u001b[38;5;124m\"\u001b[39m: \u001b[38;5;28;01mTrue\u001b[39;00m \n\u001b[0;32m     22\u001b[0m }\n\u001b[0;32m     23\u001b[0m \u001b[38;5;66;03m#model.train(params=params2)\u001b[39;00m\n\u001b[0;32m     24\u001b[0m \u001b[38;5;66;03m#model.plot()\u001b[39;00m\n",
      "File \u001b[1;32mh:\\aless\\Documents\\Python_Scripts\\Matur\\matura-private-main\\matura-private-1\\model_manager.py:217\u001b[0m, in \u001b[0;36msection1.initialise_data_and_model\u001b[1;34m(self, train_params, weights)\u001b[0m\n\u001b[0;32m    214\u001b[0m trainable_params \u001b[38;5;241m=\u001b[39m \u001b[38;5;28mself\u001b[39m\u001b[38;5;241m.\u001b[39mmodel\u001b[38;5;241m.\u001b[39mcompile()\n\u001b[0;32m    216\u001b[0m \u001b[38;5;28;01mif\u001b[39;00m weights \u001b[38;5;129;01mis\u001b[39;00m \u001b[38;5;129;01mnot\u001b[39;00m \u001b[38;5;28;01mNone\u001b[39;00m:\n\u001b[1;32m--> 217\u001b[0m     \u001b[38;5;28;43mself\u001b[39;49m\u001b[38;5;241;43m.\u001b[39;49m\u001b[43mmodel\u001b[49m\u001b[38;5;241;43m.\u001b[39;49m\u001b[43mload_weights\u001b[49m\u001b[43m(\u001b[49m\u001b[43mweights\u001b[49m\u001b[43m)\u001b[49m\n\u001b[0;32m    218\u001b[0m \u001b[38;5;28;01mreturn\u001b[39;00m trainable_params\n",
      "File \u001b[1;32mh:\\aless\\Documents\\Python_Scripts\\Matur\\matura-private-main\\matura-private-1\\mymodels.py:291\u001b[0m, in \u001b[0;36mClassificationModel.load_weights\u001b[1;34m(self, path)\u001b[0m\n\u001b[0;32m    290\u001b[0m \u001b[38;5;28;01mdef\u001b[39;00m \u001b[38;5;21mload_weights\u001b[39m(\u001b[38;5;28mself\u001b[39m, path):\n\u001b[1;32m--> 291\u001b[0m     \u001b[38;5;28;43mself\u001b[39;49m\u001b[38;5;241;43m.\u001b[39;49m\u001b[43mmodel\u001b[49m\u001b[38;5;241;43m.\u001b[39;49m\u001b[43mload_weights\u001b[49m\u001b[43m(\u001b[49m\u001b[43mpath\u001b[49m\u001b[43m)\u001b[49m\n",
      "File \u001b[1;32mc:\\Users\\aless\\AppData\\Local\\Programs\\Python\\Python310\\lib\\site-packages\\keras\\utils\\traceback_utils.py:70\u001b[0m, in \u001b[0;36mfilter_traceback.<locals>.error_handler\u001b[1;34m(*args, **kwargs)\u001b[0m\n\u001b[0;32m     67\u001b[0m     filtered_tb \u001b[38;5;241m=\u001b[39m _process_traceback_frames(e\u001b[38;5;241m.\u001b[39m__traceback__)\n\u001b[0;32m     68\u001b[0m     \u001b[38;5;66;03m# To get the full stack trace, call:\u001b[39;00m\n\u001b[0;32m     69\u001b[0m     \u001b[38;5;66;03m# `tf.debugging.disable_traceback_filtering()`\u001b[39;00m\n\u001b[1;32m---> 70\u001b[0m     \u001b[38;5;28;01mraise\u001b[39;00m e\u001b[38;5;241m.\u001b[39mwith_traceback(filtered_tb) \u001b[38;5;28;01mfrom\u001b[39;00m \u001b[38;5;28;01mNone\u001b[39;00m\n\u001b[0;32m     71\u001b[0m \u001b[38;5;28;01mfinally\u001b[39;00m:\n\u001b[0;32m     72\u001b[0m     \u001b[38;5;28;01mdel\u001b[39;00m filtered_tb\n",
      "File \u001b[1;32mc:\\Users\\aless\\AppData\\Local\\Programs\\Python\\Python310\\lib\\site-packages\\keras\\saving\\hdf5_format.py:817\u001b[0m, in \u001b[0;36mload_weights_from_hdf5_group\u001b[1;34m(f, model)\u001b[0m\n\u001b[0;32m    815\u001b[0m layer_names \u001b[38;5;241m=\u001b[39m filtered_layer_names\n\u001b[0;32m    816\u001b[0m \u001b[38;5;28;01mif\u001b[39;00m \u001b[38;5;28mlen\u001b[39m(layer_names) \u001b[38;5;241m!=\u001b[39m \u001b[38;5;28mlen\u001b[39m(filtered_layers):\n\u001b[1;32m--> 817\u001b[0m     \u001b[38;5;28;01mraise\u001b[39;00m \u001b[38;5;167;01mValueError\u001b[39;00m(\n\u001b[0;32m    818\u001b[0m         \u001b[38;5;124mf\u001b[39m\u001b[38;5;124m\"\u001b[39m\u001b[38;5;124mLayer count mismatch when loading weights from file. \u001b[39m\u001b[38;5;124m\"\u001b[39m\n\u001b[0;32m    819\u001b[0m         \u001b[38;5;124mf\u001b[39m\u001b[38;5;124m\"\u001b[39m\u001b[38;5;124mModel expected \u001b[39m\u001b[38;5;132;01m{\u001b[39;00m\u001b[38;5;28mlen\u001b[39m(filtered_layers)\u001b[38;5;132;01m}\u001b[39;00m\u001b[38;5;124m layers, found \u001b[39m\u001b[38;5;124m\"\u001b[39m\n\u001b[0;32m    820\u001b[0m         \u001b[38;5;124mf\u001b[39m\u001b[38;5;124m\"\u001b[39m\u001b[38;5;132;01m{\u001b[39;00m\u001b[38;5;28mlen\u001b[39m(layer_names)\u001b[38;5;132;01m}\u001b[39;00m\u001b[38;5;124m saved layers.\u001b[39m\u001b[38;5;124m\"\u001b[39m\n\u001b[0;32m    821\u001b[0m     )\n\u001b[0;32m    823\u001b[0m \u001b[38;5;66;03m# We batch weight value assignments in a single backend call\u001b[39;00m\n\u001b[0;32m    824\u001b[0m \u001b[38;5;66;03m# which provides a speedup in TensorFlow.\u001b[39;00m\n\u001b[0;32m    825\u001b[0m weight_value_tuples \u001b[38;5;241m=\u001b[39m []\n",
      "\u001b[1;31mValueError\u001b[0m: Layer count mismatch when loading weights from file. Model expected 5 layers, found 10 saved layers."
     ]
    }
   ],
   "source": [
    "model = section1()\n",
    "params={\n",
    "            \"num_conv_layers\": 5,\n",
    "            \"num_dense_layers\": 4,\n",
    "            \"conv_0_size\": 178,\n",
    "            \"conv_1_size\": 30,\n",
    "            \"conv_2_size\": 54,\n",
    "            \"conv_3_size\": 84,\n",
    "            \"conv_4_size\": 80,\n",
    "            \"dense_0_size\": 112,\n",
    "            \"dense_1_size\": 97,\n",
    "            \"dense_2_size\": 7,\n",
    "            \"dense_3_size\": 110,\n",
    "            \"flatten_type\": \"global_average\",\n",
    "            \"activation\": \"relu\",\n",
    "            \"optimizer\": \"adam\"\n",
    "        }\n",
    "model.initialise_data_and_model(train_params=params, weights=SECT1_CHECKPOINT_FOLDER + f'regression_model_optimize_{3}.weights.h5')\n",
    "params2 = {\n",
    "    \"stop_at\": 5,\n",
    "    \"show_progress\": True \n",
    "}\n",
    "#model.train(params=params2)\n",
    "#model.plot()\n",
    "get_metrics(model)"
   ]
  },
  {
   "cell_type": "code",
   "execution_count": null,
   "metadata": {},
   "outputs": [],
   "source": [
    "model = section2()\n",
    "params={\n",
    "            \"num_conv_layers\": 3,\n",
    "            \"num_dense_layers\": 1,\n",
    "            \"conv_0_size\": 4,\n",
    "            \"conv_1_size\": 9,\n",
    "            \"conv_2_size\": 74,\n",
    "            \"dense_0_size\": 68,\n",
    "            \"flatten_type\": \"global_average\",\n",
    "            \"activation\": \"relu\",\n",
    "            \"optimizer\": \"adam\"\n",
    "        }\n",
    "\n",
    "model.initialise_data_and_model(train_params=params)\n",
    "model.model.load_weights(\"H:\\\\aless\\Documents\\Python_Scripts\\Matur\\matura-private-main\\matura-private-1\\\\resilt2\\\\best_sect2.weights.h5\")\n",
    "get_metrics(model)"
   ]
  },
  {
   "cell_type": "code",
   "execution_count": null,
   "metadata": {},
   "outputs": [],
   "source": [
    "params2 = {\n",
    "    \"stop_at\": 0.9,\n",
    "    \"show_progress\": True \n",
    "}\n",
    "model.train(params=params2)\n",
    "model.plot()"
   ]
  },
  {
   "cell_type": "code",
   "execution_count": null,
   "metadata": {},
   "outputs": [],
   "source": [
    "import h5py\n",
    "\n",
    "# Open the weights file\n",
    "with h5py.File('H:\\\\aless\\Documents\\Python_Scripts\\Matur\\matura-private-main\\matura-private-1\\\\resilt2\\\\best_sect1.weights.h5', 'r') as f:\n",
    "    # List the groups in the file (each group represents a layer)\n",
    "    print(\"Layers in weights file:\")\n",
    "    for layer_name in f.keys():\n",
    "        print(layer_name)\n",
    "\n",
    "        # Access layer weights and biases\n",
    "        weights = f[layer_name]\n",
    "        for weight_name in weights.keys():\n",
    "            weight_data = weights[weight_name]\n",
    "            print(f\"  {weight_name}: shape={weight_data.shape}\")\n"
   ]
  },
  {
   "cell_type": "code",
   "execution_count": null,
   "metadata": {},
   "outputs": [],
   "source": []
  }
 ],
 "metadata": {
  "kernelspec": {
   "display_name": "Python 3",
   "language": "python",
   "name": "python3"
  },
  "language_info": {
   "codemirror_mode": {
    "name": "ipython",
    "version": 3
   },
   "file_extension": ".py",
   "mimetype": "text/x-python",
   "name": "python",
   "nbconvert_exporter": "python",
   "pygments_lexer": "ipython3",
   "version": "3.10.9"
  }
 },
 "nbformat": 4,
 "nbformat_minor": 2
}
