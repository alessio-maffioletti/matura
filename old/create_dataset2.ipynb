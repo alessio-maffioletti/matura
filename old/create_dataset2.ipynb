{
 "cells": [
  {
   "cell_type": "code",
   "execution_count": null,
   "metadata": {},
   "outputs": [],
   "source": [
    "import matplotlib.pyplot as plt\n",
    "import numpy as np\n",
    "import mymodels\n",
    "import tensorflow as tf"
   ]
  },
  {
   "cell_type": "code",
   "execution_count": null,
   "metadata": {},
   "outputs": [],
   "source": [
    "main_folder = '../'\n",
    "dataset_folder = main_folder + 'dataset_tfrecord_small/'\n",
    "dataset2_folder = main_folder + 'dataset2/'\n",
    "logs_folder = main_folder + 'logs/'\n",
    "checkpoints_folder = main_folder + 'checkpoints_sect1/'"
   ]
  },
  {
   "cell_type": "code",
   "execution_count": null,
   "metadata": {},
   "outputs": [],
   "source": [
    "def _parse_image_function(example_proto, label_shape=[128,10]):\n",
    "    # Define the features to be extracted (serialized image and label)\n",
    "    image_feature_description = {\n",
    "        'image': tf.io.FixedLenFeature([], tf.string),  # Expecting the image as a serialized tensor (string)\n",
    "        'label': tf.io.FixedLenFeature([], tf.string),  # Expecting the label as a serialized tensor (string)\n",
    "    }\n",
    "\n",
    "    # Parse the input tf.train.Example proto using the dictionary\n",
    "    parsed_features = tf.io.parse_single_example(example_proto, image_feature_description)\n",
    "    \n",
    "    # Deserialize the image and label tensors\n",
    "    image = tf.io.parse_tensor(parsed_features['image'], out_type=tf.float32)  # Deserialize image tensor\n",
    "    label = tf.io.parse_tensor(parsed_features['label'], out_type=tf.int32)  # Deserialize label tensor\n",
    "\n",
    "    # Ensure that the image tensor has the correct shape\n",
    "    image.set_shape([128, 128, 128, 1])  # Set the known shape for the image tensor\n",
    "\n",
    "    # Ensure that the label tensor has the correct shape\n",
    "    label.set_shape(label_shape)\n",
    "\n",
    "    return image, label"
   ]
  },
  {
   "cell_type": "code",
   "execution_count": null,
   "metadata": {},
   "outputs": [],
   "source": [
    "train_dataset = tf.data.TFRecordDataset(dataset_folder + 'train.tfrecord').map(_parse_image_function)\n",
    "val_dataset = tf.data.TFRecordDataset(dataset_folder + 'train.tfrecord').map(_parse_image_function)"
   ]
  },
  {
   "cell_type": "code",
   "execution_count": null,
   "metadata": {},
   "outputs": [],
   "source": [
    "weights = checkpoints_folder + 'sect1_epoch_100.weights.h5'\n",
    "model = mymodels.sect1()\n",
    "model.compile()\n",
    "model.load_weights(weights)"
   ]
  },
  {
   "cell_type": "code",
   "execution_count": null,
   "metadata": {},
   "outputs": [],
   "source": [
    "def crop_images(X_train_canvas, batch):\n",
    "    X_cropped = []\n",
    "    crop_amount = 32\n",
    "    base_grace = 5\n",
    "\n",
    "    small_data = X_train_canvas #[:100]\n",
    "\n",
    "    for i in range(small_data.shape[0]):\n",
    "        grace = base_grace\n",
    "\n",
    "        image = small_data[i]\n",
    "        coords = model.predict(image.reshape(1,128,128,1))\n",
    "        x = int(coords[0][0])\n",
    "        y = int(coords[0][1])\n",
    "        if x > 128-crop_amount-grace:\n",
    "            x = 128-crop_amount-grace\n",
    "        if x < grace:\n",
    "            x = grace\n",
    "        if y > 128-crop_amount-grace:\n",
    "            y = 128-crop_amount-grace\n",
    "        if y < grace:\n",
    "            y = grace\n",
    "        \n",
    "        cropped_image = image[y-grace:y+crop_amount+grace, x-grace:x+crop_amount+grace]\n",
    "\n",
    "        if cropped_image.shape != (42,42,1):\n",
    "            print(f\"Error: {cropped_image.shape}\")\n",
    "            print(x,y)\n",
    "            plt.imshow(cropped_image)\n",
    "            plt.show()\n",
    "            plt.imshow(image)\n",
    "            plt.show()\n",
    "        X_cropped.append(cropped_image)\n",
    "        print(f\"\\rNum: {i+1} / {small_data.shape[0]} Batch: {batch} \", end='')\n",
    "\n",
    "    X_cropped = np.array(X_cropped)\n",
    "    print(X_cropped.shape)\n",
    "    return X_cropped"
   ]
  },
  {
   "cell_type": "code",
   "execution_count": null,
   "metadata": {},
   "outputs": [],
   "source": [
    "def _bytes_feature(value):\n",
    "  \"\"\"Returns a bytes_list from a string / byte.\"\"\"\n",
    "  if isinstance(value, type(tf.constant(0))):\n",
    "    value = value.numpy() # BytesList won't unpack a string from an EagerTensor.\n",
    "  return tf.train.Feature(bytes_list=tf.train.BytesList(value=[value]))\n",
    "\n",
    "\n",
    "def example_test(image, label):\n",
    "    feature = {\n",
    "        'image': _bytes_feature(image),\n",
    "        'label': _bytes_feature(label)\n",
    "    }\n",
    "    #print(f'feature: {feature[\"label\"]}')\n",
    "    return tf.train.Example(features=tf.train.Features(feature=feature))\n",
    "\n",
    "def write_in_batches(data, filename, coords=True):\n",
    "    with tf.io.TFRecordWriter(filename) as writer:\n",
    "        for i, (images, labels) in enumerate(data):\n",
    "            image_tesnor = crop_images(images.numpy(), i)\n",
    "            # Serialize images and labels as tensors\n",
    "            image_tesnor = tf.convert_to_tensor(image_tesnor)\n",
    "            print(image_tesnor.shape)\n",
    "            \n",
    "            serialized_image = tf.io.serialize_tensor(image_tesnor).numpy()\n",
    "            #labels_unonehot = np.argmax(labels, axis=-1)  # Convert one-hot labels to class indices\n",
    "            if coords:\n",
    "              label_tensor = tf.convert_to_tensor(labels)\n",
    "              #reshaped_tensor = tf.expand_dims(label_tensor, axis=-1)  # Adds a new dimension at the last axis\n",
    "              print(label_tensor.shape)\n",
    "\n",
    "              serialized_label = tf.io.serialize_tensor(label_tensor).numpy()\n",
    "            else:\n",
    "              label_tensor = tf.reshape(tf.convert_to_tensor(labels), [-1])\n",
    "              reshaped_tensor = tf.expand_dims(label_tensor, axis=-1)  # Adds a new dimension at the last axis\n",
    "              print(reshaped_tensor.shape)\n",
    "\n",
    "              serialized_label = tf.io.serialize_tensor(reshaped_tensor).numpy()\n",
    "\n",
    "            \n",
    "            # Create tf.train.Example and write it to the file\n",
    "            tf_example = example_test(serialized_image, serialized_label)\n",
    "            writer.write(tf_example.SerializeToString())"
   ]
  },
  {
   "cell_type": "code",
   "execution_count": null,
   "metadata": {},
   "outputs": [],
   "source": [
    "write_in_batches(train_dataset, 'train_dataset_cropped.tfrecord')\n",
    "write_in_batches(val_dataset, 'test_dataset_cropped.tfrecord')"
   ]
  },
  {
   "cell_type": "code",
   "execution_count": null,
   "metadata": {},
   "outputs": [],
   "source": []
  }
 ],
 "metadata": {
  "kernelspec": {
   "display_name": "Python 3",
   "language": "python",
   "name": "python3"
  },
  "language_info": {
   "codemirror_mode": {
    "name": "ipython",
    "version": 3
   },
   "file_extension": ".py",
   "mimetype": "text/x-python",
   "name": "python",
   "nbconvert_exporter": "python",
   "pygments_lexer": "ipython3",
   "version": "3.10.9"
  }
 },
 "nbformat": 4,
 "nbformat_minor": 2
}
