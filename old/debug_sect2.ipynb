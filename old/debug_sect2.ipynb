{
 "cells": [
  {
   "cell_type": "code",
   "execution_count": 1,
   "metadata": {},
   "outputs": [],
   "source": [
    "import create_dataset"
   ]
  },
  {
   "cell_type": "code",
   "execution_count": 2,
   "metadata": {},
   "outputs": [],
   "source": [
    "X_train_canvas, coords, y_train_onehot, X_test_canvas, coords_test, y_test_onehot = create_dataset.notebook().get_data()"
   ]
  },
  {
   "cell_type": "code",
   "execution_count": 3,
   "metadata": {},
   "outputs": [
    {
     "name": "stdout",
     "output_type": "stream",
     "text": [
      "Model: \"sequential\"\n",
      "_________________________________________________________________\n",
      " Layer (type)                Output Shape              Param #   \n",
      "=================================================================\n",
      " conv2d (Conv2D)             (None, 126, 126, 64)      640       \n",
      "                                                                 \n",
      " max_pooling2d (MaxPooling2D  (None, 63, 63, 64)       0         \n",
      " )                                                               \n",
      "                                                                 \n",
      " conv2d_1 (Conv2D)           (None, 61, 61, 128)       73856     \n",
      "                                                                 \n",
      " max_pooling2d_1 (MaxPooling  (None, 30, 30, 128)      0         \n",
      " 2D)                                                             \n",
      "                                                                 \n",
      " global_average_pooling2d (G  (None, 128)              0         \n",
      " lobalAveragePooling2D)                                          \n",
      "                                                                 \n",
      " dense (Dense)               (None, 64)                8256      \n",
      "                                                                 \n",
      " dropout (Dropout)           (None, 64)                0         \n",
      "                                                                 \n",
      " dense_1 (Dense)             (None, 128)               8320      \n",
      "                                                                 \n",
      " dropout_1 (Dropout)         (None, 128)               0         \n",
      "                                                                 \n",
      " dense_2 (Dense)             (None, 2)                 258       \n",
      "                                                                 \n",
      "=================================================================\n",
      "Total params: 91,330\n",
      "Trainable params: 91,330\n",
      "Non-trainable params: 0\n",
      "_________________________________________________________________\n",
      "None\n"
     ]
    }
   ],
   "source": [
    "import mymodelscopy as mymodels\n",
    "\n",
    "model = mymodels.sect1()\n",
    "model.compile()"
   ]
  },
  {
   "cell_type": "code",
   "execution_count": null,
   "metadata": {},
   "outputs": [
    {
     "name": "stdout",
     "output_type": "stream",
     "text": [
      "Epoch 1/30\n",
      " 6/32 [====>.........................] - ETA: 1s - loss: 3527.4941 - mean_absolute_error: 51.5885WARNING:tensorflow:Callback method `on_train_batch_end` is slow compared to the batch time (batch time: 0.0162s vs `on_train_batch_end` time: 0.0398s). Check your callbacks.\n",
      "32/32 [==============================] - 6s 80ms/step - loss: 3146.8601 - mean_absolute_error: 48.0585 - val_loss: 2555.5613 - val_mean_absolute_error: 42.2965\n",
      "Epoch 2/30\n",
      "32/32 [==============================] - 2s 65ms/step - loss: 1368.0468 - mean_absolute_error: 30.1556 - val_loss: 967.5748 - val_mean_absolute_error: 26.3524\n",
      "Epoch 3/30\n",
      "32/32 [==============================] - 2s 66ms/step - loss: 1058.2845 - mean_absolute_error: 27.2851 - val_loss: 920.0910 - val_mean_absolute_error: 25.8136\n",
      "Epoch 4/30\n",
      "32/32 [==============================] - 2s 64ms/step - loss: 1030.4598 - mean_absolute_error: 26.9001 - val_loss: 849.1206 - val_mean_absolute_error: 25.0575\n",
      "Epoch 5/30\n",
      "32/32 [==============================] - 2s 64ms/step - loss: 1036.1012 - mean_absolute_error: 27.0432 - val_loss: 849.8593 - val_mean_absolute_error: 25.0684\n",
      "Epoch 6/30\n",
      "32/32 [==============================] - 2s 65ms/step - loss: 1045.7765 - mean_absolute_error: 27.1042 - val_loss: 863.0811 - val_mean_absolute_error: 25.2009\n",
      "Epoch 7/30\n",
      "32/32 [==============================] - 2s 65ms/step - loss: 1001.8682 - mean_absolute_error: 26.5958 - val_loss: 895.0598 - val_mean_absolute_error: 25.5359\n",
      "Epoch 8/30\n",
      "32/32 [==============================] - 2s 66ms/step - loss: 1003.0112 - mean_absolute_error: 26.5274 - val_loss: 859.4976 - val_mean_absolute_error: 25.1639\n",
      "Epoch 9/30\n",
      "32/32 [==============================] - 2s 65ms/step - loss: 971.8860 - mean_absolute_error: 26.1544 - val_loss: 836.7802 - val_mean_absolute_error: 24.9351\n",
      "Epoch 10/30\n",
      "32/32 [==============================] - 2s 66ms/step - loss: 994.6370 - mean_absolute_error: 26.5149 - val_loss: 837.1719 - val_mean_absolute_error: 24.9393\n",
      "Epoch 11/30\n",
      "32/32 [==============================] - 2s 65ms/step - loss: 976.8141 - mean_absolute_error: 26.2641 - val_loss: 912.5396 - val_mean_absolute_error: 25.7299\n",
      "Epoch 12/30\n",
      "32/32 [==============================] - 2s 66ms/step - loss: 994.5720 - mean_absolute_error: 26.7205 - val_loss: 851.9233 - val_mean_absolute_error: 25.0924\n",
      "Epoch 13/30\n",
      "32/32 [==============================] - 2s 66ms/step - loss: 990.5009 - mean_absolute_error: 26.4685 - val_loss: 874.2895 - val_mean_absolute_error: 25.3162\n",
      "Epoch 14/30\n",
      " 2/32 [>.............................] - ETA: 1s - loss: 1102.1768 - mean_absolute_error: 28.0932"
     ]
    }
   ],
   "source": [
    "params = {'epochs': 30,\n",
    "        'tensorboard': True, \n",
    "        'cp_callback': True,\n",
    "        'weights': None\n",
    "        }\n",
    "\n",
    "main_folder = '../'   #main use\n",
    "#main_folder = './'     #for debugging (python file)\n",
    "dataset_folder = main_folder + 'dataset2/'\n",
    "checkpoints_folder = main_folder + 'checkpoints_sect1/'\n",
    "logs_folder = main_folder + 'logs/'\n",
    "\n",
    "model.train(X_train_canvas, coords, X_test_canvas, coords_test, params, logs_folder, checkpoints_folder)"
   ]
  },
  {
   "cell_type": "code",
   "execution_count": null,
   "metadata": {},
   "outputs": [],
   "source": []
  }
 ],
 "metadata": {
  "kernelspec": {
   "display_name": "Python 3",
   "language": "python",
   "name": "python3"
  },
  "language_info": {
   "codemirror_mode": {
    "name": "ipython",
    "version": 3
   },
   "file_extension": ".py",
   "mimetype": "text/x-python",
   "name": "python",
   "nbconvert_exporter": "python",
   "pygments_lexer": "ipython3",
   "version": "3.10.9"
  }
 },
 "nbformat": 4,
 "nbformat_minor": 2
}
