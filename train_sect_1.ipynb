{
 "cells": [
  {
   "cell_type": "code",
   "execution_count": 1,
   "metadata": {},
   "outputs": [],
   "source": [
    "import numpy as np\n",
    "import matplotlib.pyplot as plt\n",
    "import seaborn as sns\n",
    "import os"
   ]
  },
  {
   "cell_type": "code",
   "execution_count": null,
   "metadata": {},
   "outputs": [],
   "source": [
    "import gc\n",
    "\n",
    "gc.collect()"
   ]
  },
  {
   "cell_type": "code",
   "execution_count": 3,
   "metadata": {},
   "outputs": [],
   "source": [
    "main_folder = '../'\n",
    "dataset_folder = main_folder + 'dataset/'\n",
    "logs_folder = main_folder + 'logs/'\n",
    "checkpoints_folder = main_folder + 'checkpoints/'"
   ]
  },
  {
   "cell_type": "code",
   "execution_count": 4,
   "metadata": {},
   "outputs": [],
   "source": [
    "X_train_canvas = np.load(dataset_folder + 'X_train_canvas.npy')\n",
    "coords = np.load(dataset_folder + 'coords.npy')\n",
    "y_train = np.load(dataset_folder + 'y_train.npy')\n",
    "X_test_canvas = np.load(dataset_folder + 'X_test_canvas.npy')\n",
    "coords_test = np.load(dataset_folder + 'coords_test.npy')\n",
    "y_test = np.load(dataset_folder + 'y_test.npy')"
   ]
  },
  {
   "cell_type": "code",
   "execution_count": 5,
   "metadata": {},
   "outputs": [],
   "source": [
    "X_train_2d = X_train_canvas.reshape(X_train_canvas.shape[0], 128, 128)\n",
    "X_test_2d = X_test_canvas.reshape(X_test_canvas.shape[0], 128, 128)"
   ]
  },
  {
   "cell_type": "code",
   "execution_count": 6,
   "metadata": {},
   "outputs": [],
   "source": [
    "import mymodels\n",
    "\n",
    "model = mymodels.sect1()\n",
    "model.compile()"
   ]
  },
  {
   "cell_type": "code",
   "execution_count": null,
   "metadata": {},
   "outputs": [],
   "source": [
    "params = {'epochs': 30, \n",
    "          'batch_size': 1024, \n",
    "          'tensorboard': True, \n",
    "          'cp_callback': True}\n",
    "\n",
    "run = model.train(X_train_2d, coords, X_test_2d, coords_test, params, logs_folder, checkpoints_folder)\n",
    "history_model = run.history\n",
    "print(\"The history has the following data: \", history_model.keys())\n",
    "\n",
    "# Plotting the training and validation accuracy during the training\n",
    "sns.lineplot(\n",
    "    x=run.epoch, y=history_model[\"mean_absolute_error\"], color=\"blue\", label=\"Training set\"\n",
    ")\n",
    "sns.lineplot(\n",
    "    x=run.epoch,\n",
    "    y=history_model[\"val_mean_absolute_error\"],\n",
    "    color=\"red\",\n",
    "    label=\"Valdation set\",\n",
    ")\n",
    "plt.xlabel(\"epochs\")\n",
    "plt.ylabel(\"accuracy\")"
   ]
  },
  {
   "cell_type": "code",
   "execution_count": null,
   "metadata": {},
   "outputs": [],
   "source": [
    "cp_dir = checkpoints_folder + 'model_epoch_30.weights.h5'\n",
    "\n",
    "model.evaluate(X_test_2d, coords_test, cp_dir)"
   ]
  },
  {
   "cell_type": "code",
   "execution_count": null,
   "metadata": {},
   "outputs": [],
   "source": [
    "random_sample = np.random.randint(0, X_test_2d.shape[0])\n",
    "\n",
    "image = X_test_2d[random_sample]\n",
    "actual = coords_test[random_sample]\n",
    "prediction = model.predict(X_test_2d[random_sample].reshape(1, 128, 128, 1))\n",
    "\n",
    "plt.imshow(image, cmap='gray')\n",
    "#add dots to predicted values\n",
    "plt.scatter(prediction[0][0], prediction[0][1], color='red')\n",
    "plt.scatter(actual[0], actual[1], color='green')\n",
    "#add legend\n",
    "plt.legend(['Predicted', 'Actual'])\n",
    "plt.title(f\"Predicted: {prediction.round()}, Actual: {actual}\")\n",
    "plt.show()"
   ]
  }
 ],
 "metadata": {
  "kernelspec": {
   "display_name": "base",
   "language": "python",
   "name": "python3"
  },
  "language_info": {
   "codemirror_mode": {
    "name": "ipython",
    "version": 3
   },
   "file_extension": ".py",
   "mimetype": "text/x-python",
   "name": "python",
   "nbconvert_exporter": "python",
   "pygments_lexer": "ipython3",
   "version": "3.11.7"
  }
 },
 "nbformat": 4,
 "nbformat_minor": 2
}
